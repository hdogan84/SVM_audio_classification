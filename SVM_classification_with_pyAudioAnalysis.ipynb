{
 "cells": [
  {
   "cell_type": "code",
   "execution_count": 2,
   "metadata": {},
   "outputs": [],
   "source": [
    "import librosa\n",
    "from pyAudioAnalysis.audioTrainTest import extract_features_and_train \n",
    "from pyAudioAnalysis import audioTrainTest as aT \n",
    "from pyAudioAnalysis import MidTermFeatures as mT \n",
    "from skimage import feature\n",
    "import pandas as pd\n",
    "import numpy as np\n",
    "import matplotlib.pyplot as plt\n",
    "from scipy import signal\n",
    "from skimage.feature import match_template\n",
    "import os\n",
    "from sklearn.model_selection import train_test_split\n",
    "import random\n",
    "import shutil\n",
    "from sklearn import metrics\n",
    "from sklearn.metrics import roc_curve, auc"
   ]
  },
  {
   "cell_type": "code",
   "execution_count": 2,
   "metadata": {},
   "outputs": [],
   "source": [
    "from os import listdir\n",
    "\n",
    "def find_npy_filenames( path_to_dir, suffix=\".npy\" ):\n",
    "    filenames = listdir(path_to_dir)\n",
    "    return [ filename for filename in filenames if filename.endswith( suffix ) ]\n",
    "\n",
    "def find_wav_filenames( path_to_dir, suffix=\".wav\" ):\n",
    "    filenames = listdir(path_to_dir)\n",
    "    return [ filename for filename in filenames if filename.endswith( suffix ) ]"
   ]
  },
  {
   "cell_type": "code",
   "execution_count": 5,
   "metadata": {},
   "outputs": [],
   "source": [
    "np.set_printoptions(precision=2,suppress=True)"
   ]
  },
  {
   "cell_type": "code",
   "execution_count": 5,
   "metadata": {},
   "outputs": [
    {
     "name": "stdout",
     "output_type": "stream",
     "text": [
      "868\n"
     ]
    }
   ],
   "source": [
    "# Custom Train - Test split \n",
    "source_dir=\"Template1/positive_wavs/0.785/\"\n",
    "destination_dir=\"Template1/positive_wavs/0.785_Test/\"\n",
    "os.mkdir(destination_dir)\n",
    "wav_names = find_wav_filenames(source_dir)\n",
    "print(len(wav_names))\n",
    "samples=random.sample(range(len(wav_names)), int(len(wav_names)/5))\n",
    "for i in samples: shutil.move(source_dir+wav_names[i],destination_dir)"
   ]
  },
  {
   "cell_type": "code",
   "execution_count": 7,
   "metadata": {},
   "outputs": [
    {
     "name": "stdout",
     "output_type": "stream",
     "text": [
      "2034\n"
     ]
    }
   ],
   "source": [
    "source_dir=\"Template1/negative_wavs/0.785_Sample100_Test/\"\n",
    "destination_dir=\"Template1/negative_wavs/0.785_Sample100/\"\n",
    "#os.mkdir(destination_dir)\n",
    "wav_names = find_wav_filenames(source_dir)\n",
    "print(len(wav_names))\n",
    "samples=random.sample(range(len(wav_names)), int(len(wav_names)/2))\n",
    "for i in samples: shutil.move(source_dir+wav_names[i],destination_dir)"
   ]
  },
  {
   "cell_type": "code",
   "execution_count": 8,
   "metadata": {},
   "outputs": [],
   "source": [
    "dirs0=\"Template1/positive_wavs/\"\n",
    "dirs1=\"Template1/negative_wavs/\"\n",
    "mt, st = 0.3, 0.02 "
   ]
  },
  {
   "cell_type": "code",
   "execution_count": 9,
   "metadata": {},
   "outputs": [],
   "source": [
    "npp=find_npy_filenames(dirs1+'0.785_Sample100')\n",
    "arr1=np.load(dirs1+'0.785_Sample100/'+npp[0])"
   ]
  },
  {
   "cell_type": "code",
   "execution_count": 75,
   "metadata": {},
   "outputs": [
    {
     "name": "stdout",
     "output_type": "stream",
     "text": [
      "136\n",
      "['zcr_mean' 'energy_mean' 'energy_entropy_mean' 'spectral_centroid_mean'\n",
      " 'spectral_spread_mean' 'spectral_entropy_mean' 'spectral_flux_mean'\n",
      " 'spectral_rolloff_mean' 'mfcc_1_mean' 'mfcc_2_mean' 'mfcc_3_mean'\n",
      " 'mfcc_4_mean' 'mfcc_5_mean' 'mfcc_6_mean' 'mfcc_7_mean' 'mfcc_8_mean'\n",
      " 'mfcc_9_mean' 'mfcc_10_mean' 'mfcc_11_mean' 'mfcc_12_mean' 'mfcc_13_mean'\n",
      " 'chroma_1_mean' 'chroma_2_mean' 'chroma_3_mean' 'chroma_4_mean'\n",
      " 'chroma_5_mean' 'chroma_6_mean' 'chroma_7_mean' 'chroma_8_mean'\n",
      " 'chroma_9_mean' 'chroma_10_mean' 'chroma_11_mean' 'chroma_12_mean'\n",
      " 'chroma_std_mean' 'delta zcr_mean' 'delta energy_mean'\n",
      " 'delta energy_entropy_mean' 'delta spectral_centroid_mean'\n",
      " 'delta spectral_spread_mean' 'delta spectral_entropy_mean'\n",
      " 'delta spectral_flux_mean' 'delta spectral_rolloff_mean'\n",
      " 'delta mfcc_1_mean' 'delta mfcc_2_mean' 'delta mfcc_3_mean'\n",
      " 'delta mfcc_4_mean' 'delta mfcc_5_mean' 'delta mfcc_6_mean'\n",
      " 'delta mfcc_7_mean' 'delta mfcc_8_mean' 'delta mfcc_9_mean'\n",
      " 'delta mfcc_10_mean' 'delta mfcc_11_mean' 'delta mfcc_12_mean'\n",
      " 'delta mfcc_13_mean' 'delta chroma_1_mean' 'delta chroma_2_mean'\n",
      " 'delta chroma_3_mean' 'delta chroma_4_mean' 'delta chroma_5_mean'\n",
      " 'delta chroma_6_mean' 'delta chroma_7_mean' 'delta chroma_8_mean'\n",
      " 'delta chroma_9_mean' 'delta chroma_10_mean' 'delta chroma_11_mean'\n",
      " 'delta chroma_12_mean' 'delta chroma_std_mean' 'zcr_std' 'energy_std'\n",
      " 'energy_entropy_std' 'spectral_centroid_std' 'spectral_spread_std'\n",
      " 'spectral_entropy_std' 'spectral_flux_std' 'spectral_rolloff_std'\n",
      " 'mfcc_1_std' 'mfcc_2_std' 'mfcc_3_std' 'mfcc_4_std' 'mfcc_5_std'\n",
      " 'mfcc_6_std' 'mfcc_7_std' 'mfcc_8_std' 'mfcc_9_std' 'mfcc_10_std'\n",
      " 'mfcc_11_std' 'mfcc_12_std' 'mfcc_13_std' 'chroma_1_std' 'chroma_2_std'\n",
      " 'chroma_3_std' 'chroma_4_std' 'chroma_5_std' 'chroma_6_std'\n",
      " 'chroma_7_std' 'chroma_8_std' 'chroma_9_std' 'chroma_10_std'\n",
      " 'chroma_11_std' 'chroma_12_std' 'chroma_std_std' 'delta zcr_std'\n",
      " 'delta energy_std' 'delta energy_entropy_std'\n",
      " 'delta spectral_centroid_std' 'delta spectral_spread_std'\n",
      " 'delta spectral_entropy_std' 'delta spectral_flux_std'\n",
      " 'delta spectral_rolloff_std' 'delta mfcc_1_std' 'delta mfcc_2_std'\n",
      " 'delta mfcc_3_std' 'delta mfcc_4_std' 'delta mfcc_5_std'\n",
      " 'delta mfcc_6_std' 'delta mfcc_7_std' 'delta mfcc_8_std'\n",
      " 'delta mfcc_9_std' 'delta mfcc_10_std' 'delta mfcc_11_std'\n",
      " 'delta mfcc_12_std' 'delta mfcc_13_std' 'delta chroma_1_std'\n",
      " 'delta chroma_2_std' 'delta chroma_3_std' 'delta chroma_4_std'\n",
      " 'delta chroma_5_std' 'delta chroma_6_std' 'delta chroma_7_std'\n",
      " 'delta chroma_8_std' 'delta chroma_9_std' 'delta chroma_10_std'\n",
      " 'delta chroma_11_std' 'delta chroma_12_std' 'delta chroma_std_std']\n"
     ]
    }
   ],
   "source": [
    "feature_names=np.load('mid_feature_names.npy')\n",
    "print(len(feature_names))\n",
    "print(feature_names)"
   ]
  },
  {
   "cell_type": "code",
   "execution_count": 51,
   "metadata": {},
   "outputs": [],
   "source": [
    "mT.mid_feature_extraction_file_dir(dirs1+'0.785_Sample100',  mt, mt, st, 0.01,store_short_features=False, store_csv=False,plot=True)"
   ]
  },
  {
   "cell_type": "code",
   "execution_count": 31,
   "metadata": {},
   "outputs": [],
   "source": [
    "mt, st = 0.3, 0.02 \n",
    "dirs0=\"Template1/positive_wavs/\"\n",
    "dirs1=\"Template1/negative_wavs/\"\n",
    "methodname=\"svm_rbf\"  # choose from Gradient_boosting, KNN, RandomForest, ExtraTrees\n",
    "classifier_name=\"Template1/classifiers/1to3/Waldschnepfe_\"+methodname\n",
    "dirs = [dirs0+'0.785',dirs1+'0.785_Sample100'] \n",
    "#extract_features_and_train(dirs, mt, mt, st, 0.01, methodname, classifier_name,compute_beat = False)"
   ]
  },
  {
   "cell_type": "code",
   "execution_count": 61,
   "metadata": {},
   "outputs": [],
   "source": [
    "# Construct Ground Truth Vector for inference\n",
    "dst = dirs0+\"0.785_Test\" # positive wavs\n",
    "dst_negs = dirs1+\"0.785_Sample100_Test\" # negative wavs\n",
    "wav_names=[]\n",
    "positive_wav_names = find_wav_filenames(dst)\n",
    "negative_wav_names = find_wav_filenames(dst_negs)\n",
    "for filename in positive_wav_names:\n",
    "    wav_names.append(os.path.join(dst, filename))\n",
    "for filename in negative_wav_names:\n",
    "    wav_names.append(os.path.join(dst_negs, filename))\n",
    "y_test=np.zeros((len(wav_names),1))\n",
    "y_test[:len(positive_wav_names)]=1"
   ]
  },
  {
   "cell_type": "code",
   "execution_count": 65,
   "metadata": {},
   "outputs": [],
   "source": [
    "files_to_test = wav_names\n",
    "y_score=np.zeros((len(files_to_test),1))\n",
    "\n",
    "for i,f in enumerate(files_to_test): \n",
    "    #print(f'{f}:') \n",
    "    c, p, p_nam = aT.file_classification(f, classifier_name,methodname) \n",
    "    #print(f'P({p_nam[0]}={p[0]})') \n",
    "    #print(f'P({p_nam[1]}={p[1]})') \n",
    "    #print(c)\n",
    "    y_score[i]=p[0]"
   ]
  },
  {
   "cell_type": "code",
   "execution_count": 70,
   "metadata": {},
   "outputs": [
    {
     "data": {
      "text/plain": [
       "0.9944072160553822"
      ]
     },
     "execution_count": 70,
     "metadata": {},
     "output_type": "execute_result"
    }
   ],
   "source": [
    "fpr,tpr,thresholds1=roc_curve(y_test,y_score)\n",
    "roc_auc=auc(fpr,tpr)\n",
    "roc_auc"
   ]
  },
  {
   "cell_type": "code",
   "execution_count": 74,
   "metadata": {},
   "outputs": [
    {
     "data": {
      "text/plain": [
       "(0, 1.02)"
      ]
     },
     "execution_count": 74,
     "metadata": {},
     "output_type": "execute_result"
    },
    {
     "data": {
      "image/png": "[encoded data removed]",
      "text/plain": [
       "<Figure size 432x288 with 1 Axes>"
      ]
     },
     "metadata": {
      "needs_background": "light"
     },
     "output_type": "display_data"
    }
   ],
   "source": [
    "precision, recall, thresholds = metrics.precision_recall_curve(y_test,y_score)\n",
    "\n",
    "plt.plot(recall,precision)\n",
    "plt.xlabel('Recall')\n",
    "plt.ylabel('Precision')\n",
    "plt.legend(['SVM-RBF'])\n",
    "plt.grid()\n",
    "plt.ylim([0.0,1.02])\n",
    "plt.xlim([0,1.02])"
   ]
  },
  {
   "cell_type": "code",
   "execution_count": null,
   "metadata": {},
   "outputs": [],
   "source": []
  }
 ],
 "metadata": {
  "kernelspec": {
   "display_name": "ammod2021_11_16",
   "language": "python",
   "name": "python3"
  },
  "language_info": {
   "codemirror_mode": {
    "name": "ipython",
    "version": 3
   },
   "file_extension": ".py",
   "mimetype": "text/x-python",
   "name": "python",
   "nbconvert_exporter": "python",
   "pygments_lexer": "ipython3",
   "version": "3.9.7"
  },
  "vscode": {
   "interpreter": {
    "hash": "ef4cfd0f164a8684406282ce16730bf4a3f0173d4ff92c5edab657bb3fe2cc02"
   }
  }
 },
 "nbformat": 4,
 "nbformat_minor": 2
}
